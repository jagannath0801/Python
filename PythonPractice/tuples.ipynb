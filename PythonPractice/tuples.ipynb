{
 "cells": [
  {
   "cell_type": "code",
   "execution_count": 17,
   "metadata": {},
   "outputs": [
    {
     "data": {
      "text/plain": [
       "[3, 7, 11, 15]"
      ]
     },
     "execution_count": 17,
     "metadata": {},
     "output_type": "execute_result"
    }
   ],
   "source": [
    "# Tuple and packing in for loop\n",
    "mylist = [(1,2),(3,4),(5,6),(7,8)]\n",
    "mystr = 'Hello Python'\n",
    "l2 =[]\n",
    "for x, y in mylist:\n",
    "    l2.append(x + y)\n",
    "\n",
    "l2"
   ]
  },
  {
   "cell_type": "code",
   "execution_count": 21,
   "metadata": {},
   "outputs": [
    {
     "name": "stdout",
     "output_type": "stream",
     "text": [
      "(0, 'H') <class 'tuple'>\n",
      "(1, 'e') <class 'tuple'>\n",
      "(2, 'l') <class 'tuple'>\n",
      "(3, 'l') <class 'tuple'>\n",
      "(4, 'o') <class 'tuple'>\n",
      "(5, ' ') <class 'tuple'>\n",
      "(6, 'P') <class 'tuple'>\n",
      "(7, 'y') <class 'tuple'>\n",
      "(8, 't') <class 'tuple'>\n",
      "(9, 'h') <class 'tuple'>\n",
      "(10, 'o') <class 'tuple'>\n",
      "(11, 'n') <class 'tuple'>\n",
      "[3, 7, 11, 15, (0, 'H'), (1, 'e'), (2, 'l'), (3, 'l'), (4, 'o'), (5, ' '), (6, 'P'), (7, 'y'), (8, 't'), (9, 'h'), (10, 'o'), (11, 'n'), (0, 'H'), (1, 'e'), (2, 'l'), (3, 'l'), (4, 'o'), (5, ' '), (6, 'P'), (7, 'y'), (8, 't'), (9, 'h'), (10, 'o'), (11, 'n')] <class 'list'>\n"
     ]
    }
   ],
   "source": [
    "for item in enumerate(mystr):\n",
    "    l2.append(item)\n",
    "print(l2, type(l2))"
   ]
  },
  {
   "cell_type": "code",
   "execution_count": 33,
   "metadata": {},
   "outputs": [
    {
     "name": "stdout",
     "output_type": "stream",
     "text": [
      "True\n",
      "True\n",
      "True\n",
      "True\n",
      "True\n",
      "True\n",
      "True\n"
     ]
    }
   ],
   "source": [
    "print('x' in 'find x')\n",
    "print('a' in ('a', 'b', 'c'))\n",
    "print(1 in [1,2,3,4])\n",
    "print('k1' in {'k1': 1234})\n",
    "d = {'k1': 1234}\n",
    "print(\"k1\" in d.keys())\n",
    "print(1234 in d.values())\n",
    "print(('k1', 1234) in d.items())"
   ]
  }
 ],
 "metadata": {
  "kernelspec": {
   "display_name": "Python 3",
   "language": "python",
   "name": "python3"
  },
  "language_info": {
   "codemirror_mode": {
    "name": "ipython",
    "version": 3
   },
   "file_extension": ".py",
   "mimetype": "text/x-python",
   "name": "python",
   "nbconvert_exporter": "python",
   "pygments_lexer": "ipython3",
   "version": "3.8.3"
  }
 },
 "nbformat": 4,
 "nbformat_minor": 4
}
