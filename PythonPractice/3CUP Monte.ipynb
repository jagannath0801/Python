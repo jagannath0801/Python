{
 "cells": [
  {
   "cell_type": "code",
   "execution_count": 8,
   "metadata": {},
   "outputs": [],
   "source": [
    "from random import shuffle\n",
    "#shuffles a list and return a list\n",
    "def shuffle_list (mylist):\n",
    "    shuffle(mylist)\n",
    "    return mylist"
   ]
  },
  {
   "cell_type": "code",
   "execution_count": 4,
   "metadata": {},
   "outputs": [],
   "source": [
    "#Get the guess input from user\n",
    "def guess_num ():\n",
    "    guess =''\n",
    "    while guess not in ['1','2','3']:\n",
    "        guess = input('Select the place of ball 1 or 2 or 3: ')\n",
    "        \n",
    "    return int(guess)"
   ]
  },
  {
   "cell_type": "code",
   "execution_count": 5,
   "metadata": {},
   "outputs": [],
   "source": [
    "# chek the guessed input in shuffled list\n",
    "def luck_chk(shuffledlist, guessed_num):\n",
    "    if shuffledlist[guessed_num - 1] == 'O':\n",
    "        print('You are right and awesome')\n",
    "    else:\n",
    "        print('Wrong guess try again')\n",
    "    print(shuffledlist)"
   ]
  },
  {
   "cell_type": "code",
   "execution_count": 13,
   "metadata": {},
   "outputs": [
    {
     "name": "stdout",
     "output_type": "stream",
     "text": [
      "Select the place of ball 1 or 2 or 3: 4\n",
      "Select the place of ball 1 or 2 or 3: 3\n",
      "Wrong guess try again\n",
      "[' ', 'O', ' ']\n"
     ]
    }
   ],
   "source": [
    "#my list\n",
    "placing = ['O',' ',' ']\n",
    "#shuffle the list\n",
    "mylist = shuffle_list(placing)\n",
    "#ask user to guess the place\n",
    "placenum = guess_num()\n",
    "#check user luck\n",
    "luck_chk(mylist, placenum)"
   ]
  }
 ],
 "metadata": {
  "kernelspec": {
   "display_name": "Python 3",
   "language": "python",
   "name": "python3"
  },
  "language_info": {
   "codemirror_mode": {
    "name": "ipython",
    "version": 3
   },
   "file_extension": ".py",
   "mimetype": "text/x-python",
   "name": "python",
   "nbconvert_exporter": "python",
   "pygments_lexer": "ipython3",
   "version": "3.8.3"
  }
 },
 "nbformat": 4,
 "nbformat_minor": 4
}
